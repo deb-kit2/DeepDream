{
  "nbformat": 4,
  "nbformat_minor": 0,
  "metadata": {
    "colab": {
      "name": "DeepDream.ipynb",
      "provenance": [],
      "collapsed_sections": [],
      "include_colab_link": true
    },
    "kernelspec": {
      "name": "python3",
      "display_name": "Python 3"
    }
  },
  "cells": [
    {
      "cell_type": "markdown",
      "metadata": {
        "id": "view-in-github",
        "colab_type": "text"
      },
      "source": [
        "<a href=\"https://colab.research.google.com/github/deb-kit2/DeepDream/blob/master/DeepDream.ipynb\" target=\"_parent\"><img src=\"https://colab.research.google.com/assets/colab-badge.svg\" alt=\"Open In Colab\"/></a>"
      ]
    },
    {
      "cell_type": "markdown",
      "metadata": {
        "id": "WcRufE13QPRq",
        "colab_type": "text"
      },
      "source": [
        "###Dependencies"
      ]
    },
    {
      "cell_type": "code",
      "metadata": {
        "id": "OtaoAQ97P_Gn",
        "colab_type": "code",
        "colab": {
          "base_uri": "https://localhost:8080/",
          "height": 134
        },
        "outputId": "4ca61374-712b-4d4a-e112-bca43189fa4d"
      },
      "source": [
        "from keras.applications import inception_v3\n",
        "from keras import backend as k\n",
        "\n",
        "k.set_learning_phase(0)\n",
        "\n",
        "import numpy as np\n",
        "import scipy\n",
        "from keras.preprocessing.image import load_img, save_img, img_to_array"
      ],
      "execution_count": 1,
      "outputs": [
        {
          "output_type": "stream",
          "text": [
            "Using TensorFlow backend.\n"
          ],
          "name": "stderr"
        },
        {
          "output_type": "display_data",
          "data": {
            "text/html": [
              "<p style=\"color: red;\">\n",
              "The default version of TensorFlow in Colab will soon switch to TensorFlow 2.x.<br>\n",
              "We recommend you <a href=\"https://www.tensorflow.org/guide/migrate\" target=\"_blank\">upgrade</a> now \n",
              "or ensure your notebook will continue to use TensorFlow 1.x via the <code>%tensorflow_version 1.x</code> magic:\n",
              "<a href=\"https://colab.research.google.com/notebooks/tensorflow_version.ipynb\" target=\"_blank\">more info</a>.</p>\n"
            ],
            "text/plain": [
              "<IPython.core.display.HTML object>"
            ]
          },
          "metadata": {
            "tags": []
          }
        },
        {
          "output_type": "stream",
          "text": [
            "WARNING:tensorflow:From /usr/local/lib/python3.6/dist-packages/keras/backend/tensorflow_backend.py:66: The name tf.get_default_graph is deprecated. Please use tf.compat.v1.get_default_graph instead.\n",
            "\n"
          ],
          "name": "stdout"
        }
      ]
    },
    {
      "cell_type": "markdown",
      "metadata": {
        "id": "EoEen_jCRc_L",
        "colab_type": "text"
      },
      "source": [
        "###hello\n"
      ]
    },
    {
      "cell_type": "code",
      "metadata": {
        "id": "6mHZaQIzPa_U",
        "colab_type": "code",
        "colab": {}
      },
      "source": [
        "some_layers= {\n",
        "    \"mixed2\" : 2.,\n",
        "    \"mixed3\" : 0.5,\n",
        "    \"mixed4\" : 1.,\n",
        "    \"mixed5\" : 0.2, \n",
        "}"
      ],
      "execution_count": 0,
      "outputs": []
    },
    {
      "cell_type": "code",
      "metadata": {
        "id": "EGY_XPOXPUib",
        "colab_type": "code",
        "colab": {
          "base_uri": "https://localhost:8080/",
          "height": 54
        },
        "outputId": "384ecd84-ba11-4ca7-cfbd-a0ed035cf31e"
      },
      "source": [
        "model = inception_v3.InceptionV3(include_top = False, weights = \"imagenet\")\n",
        "\n",
        "loss = k.variable(0.)\n",
        "\n",
        "for layer, coeff in some_layers.items():\n",
        "  activation = model.get_layer(layer).output\n",
        "  loss += coeff * k.sum(k.square(activation))"
      ],
      "execution_count": 4,
      "outputs": [
        {
          "output_type": "stream",
          "text": [
            "WARNING:tensorflow:Variable += will be deprecated. Use variable.assign_add if you want assignment to the variable value or 'x = x + y' if you want a new python Tensor object.\n"
          ],
          "name": "stdout"
        }
      ]
    },
    {
      "cell_type": "code",
      "metadata": {
        "id": "Earm8UOvTTx2",
        "colab_type": "code",
        "colab": {}
      },
      "source": [
        "my_image = model.input\n",
        "\n",
        "gradient = k.gradients(loss, my_image)\n",
        "gradient /= k.maximum(k.mean(k.abs(gradient)), k.epsilon())\n",
        "\n",
        "fetch = k.function([my_image], [loss, gradient])\n",
        "\n",
        "def ascent(x, step, iterations, maxLoss = None):\n",
        "  for i in range(iterations):\n",
        "    l, g = fetch([x])\n",
        "    if maxLoss is not None and l < maxLoss:\n",
        "      break\n",
        "    if(i%50 == 0):\n",
        "      print(\"loss for \" + str(i) + \"th iteration : \" + str(l))\n",
        "    x += step*g\n",
        "  return x"
      ],
      "execution_count": 0,
      "outputs": []
    },
    {
      "cell_type": "markdown",
      "metadata": {
        "id": "KkXrsY5D7MSf",
        "colab_type": "text"
      },
      "source": [
        "###Helpers"
      ]
    },
    {
      "cell_type": "code",
      "metadata": {
        "id": "o8v6cSby7Lh0",
        "colab_type": "code",
        "colab": {}
      },
      "source": [
        "def resize(img, shaper):\n",
        "  if k.img_data_format() == \"channels_first\":\n",
        "    zoom = (1, 1, float(shaper[0]/img.shape[2]) , float(shaper[1]/img.shape[3]))\n",
        "  else:\n",
        "    zoom = (1, float(shaper[0]/img.shape[1]) , float(shaper[1]/img.shape[2]), 1)\n",
        "  \n",
        "  return scipy.ndimage.zoom(img, zoom, order = 1)"
      ],
      "execution_count": 0,
      "outputs": []
    },
    {
      "cell_type": "code",
      "metadata": {
        "id": "nChK3fF5fW0t",
        "colab_type": "code",
        "colab": {}
      },
      "source": [
        "def preprocess(path):\n",
        "  img = load_img(path)\n",
        "  img = img_to_array(img)\n",
        "  img = np.expand_dims(img, axis = 0)\n",
        "  img = inception_v3.preprocess_imput(img)\n",
        "  return img\n",
        "\n",
        "def deprocess(img):\n",
        "  if k.img_data_format() = \"channels_first\":\n",
        "    img = img.reshape((3, img.shape[2], img.shape[3]))\n",
        "    img = img.transpose((1, 2, 0))\n",
        "  else:\n",
        "    img = img.reshape((img.shape[1], img.shape[2], 3))\n",
        "  \n",
        "  img /= 2\n",
        "  img += 0.5\n",
        "  img *= 255\n",
        "  img = np.clip(img, 0., 255.).as_type('uint8')\n",
        "  return img"
      ],
      "execution_count": 0,
      "outputs": []
    }
  ]
}