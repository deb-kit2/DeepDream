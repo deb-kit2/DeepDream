{
  "nbformat": 4,
  "nbformat_minor": 0,
  "metadata": {
    "colab": {
      "name": "DeepDream.ipynb",
      "provenance": [],
      "collapsed_sections": [],
      "toc_visible": true,
      "include_colab_link": true
    },
    "kernelspec": {
      "name": "python3",
      "display_name": "Python 3"
    }
  },
  "cells": [
    {
      "cell_type": "markdown",
      "metadata": {
        "id": "view-in-github",
        "colab_type": "text"
      },
      "source": [
        "<a href=\"https://colab.research.google.com/github/deb-kit2/DeepDream/blob/master/DeepDream.ipynb\" target=\"_parent\"><img src=\"https://colab.research.google.com/assets/colab-badge.svg\" alt=\"Open In Colab\"/></a>"
      ]
    },
    {
      "cell_type": "markdown",
      "metadata": {
        "id": "WcRufE13QPRq",
        "colab_type": "text"
      },
      "source": [
        "###Dependencies"
      ]
    },
    {
      "cell_type": "code",
      "metadata": {
        "id": "OtaoAQ97P_Gn",
        "colab_type": "code",
        "colab": {
          "base_uri": "https://localhost:8080/",
          "height": 134
        },
        "outputId": "12af9e6e-d86c-44f9-d1db-d7b32d590dea"
      },
      "source": [
        "from keras.applications import inception_v3\n",
        "from keras import backend as k\n",
        "\n",
        "k.set_learning_phase(0)\n",
        "\n",
        "import numpy as np\n",
        "import scipy\n",
        "from keras.preprocessing.image import load_img, save_img, img_to_array"
      ],
      "execution_count": 1,
      "outputs": [
        {
          "output_type": "stream",
          "text": [
            "Using TensorFlow backend.\n"
          ],
          "name": "stderr"
        },
        {
          "output_type": "display_data",
          "data": {
            "text/html": [
              "<p style=\"color: red;\">\n",
              "The default version of TensorFlow in Colab will soon switch to TensorFlow 2.x.<br>\n",
              "We recommend you <a href=\"https://www.tensorflow.org/guide/migrate\" target=\"_blank\">upgrade</a> now \n",
              "or ensure your notebook will continue to use TensorFlow 1.x via the <code>%tensorflow_version 1.x</code> magic:\n",
              "<a href=\"https://colab.research.google.com/notebooks/tensorflow_version.ipynb\" target=\"_blank\">more info</a>.</p>\n"
            ],
            "text/plain": [
              "<IPython.core.display.HTML object>"
            ]
          },
          "metadata": {
            "tags": []
          }
        },
        {
          "output_type": "stream",
          "text": [
            "WARNING:tensorflow:From /usr/local/lib/python3.6/dist-packages/keras/backend/tensorflow_backend.py:66: The name tf.get_default_graph is deprecated. Please use tf.compat.v1.get_default_graph instead.\n",
            "\n"
          ],
          "name": "stdout"
        }
      ]
    },
    {
      "cell_type": "markdown",
      "metadata": {
        "id": "EoEen_jCRc_L",
        "colab_type": "text"
      },
      "source": [
        "###hello\n"
      ]
    },
    {
      "cell_type": "code",
      "metadata": {
        "id": "6mHZaQIzPa_U",
        "colab_type": "code",
        "colab": {}
      },
      "source": [
        "some_layers= {\n",
        "    \"mixed2\" : 0.2,\n",
        "    \"mixed3\" : 0.5,\n",
        "    \"mixed4\" : 2.,\n",
        "    \"mixed5\" : 1.5, \n",
        "}"
      ],
      "execution_count": 0,
      "outputs": []
    },
    {
      "cell_type": "code",
      "metadata": {
        "id": "EGY_XPOXPUib",
        "colab_type": "code",
        "colab": {
          "base_uri": "https://localhost:8080/",
          "height": 411
        },
        "outputId": "207bad15-8267-4635-a9fe-4d302d488fd5"
      },
      "source": [
        "model = inception_v3.InceptionV3(include_top = False, weights = \"imagenet\")\n",
        "\n",
        "loss = k.variable(0.)\n",
        "\n",
        "for layer, coeff in some_layers.items():\n",
        "  activation = model.get_layer(layer).output\n",
        "  scaling = k.prod(k.cast(k.shape(activation), 'float32'))\n",
        "  if k.image_data_format() == 'channels_first':\n",
        "    loss = loss + coeff * k.sum(k.square(activation[:, :, 2: -2, 2: -2]))/scaling\n",
        "  else:\n",
        "    loss = loss + coeff * k.sum(k.square(activation[:, 2: -2, 2: -2, :]))/scaling"
      ],
      "execution_count": 3,
      "outputs": [
        {
          "output_type": "stream",
          "text": [
            "WARNING:tensorflow:From /usr/local/lib/python3.6/dist-packages/keras/backend/tensorflow_backend.py:541: The name tf.placeholder is deprecated. Please use tf.compat.v1.placeholder instead.\n",
            "\n",
            "WARNING:tensorflow:From /usr/local/lib/python3.6/dist-packages/keras/backend/tensorflow_backend.py:4432: The name tf.random_uniform is deprecated. Please use tf.random.uniform instead.\n",
            "\n",
            "WARNING:tensorflow:From /usr/local/lib/python3.6/dist-packages/keras/backend/tensorflow_backend.py:190: The name tf.get_default_session is deprecated. Please use tf.compat.v1.get_default_session instead.\n",
            "\n",
            "WARNING:tensorflow:From /usr/local/lib/python3.6/dist-packages/keras/backend/tensorflow_backend.py:197: The name tf.ConfigProto is deprecated. Please use tf.compat.v1.ConfigProto instead.\n",
            "\n",
            "WARNING:tensorflow:From /usr/local/lib/python3.6/dist-packages/keras/backend/tensorflow_backend.py:203: The name tf.Session is deprecated. Please use tf.compat.v1.Session instead.\n",
            "\n",
            "WARNING:tensorflow:From /usr/local/lib/python3.6/dist-packages/keras/backend/tensorflow_backend.py:207: The name tf.global_variables is deprecated. Please use tf.compat.v1.global_variables instead.\n",
            "\n",
            "WARNING:tensorflow:From /usr/local/lib/python3.6/dist-packages/keras/backend/tensorflow_backend.py:216: The name tf.is_variable_initialized is deprecated. Please use tf.compat.v1.is_variable_initialized instead.\n",
            "\n",
            "WARNING:tensorflow:From /usr/local/lib/python3.6/dist-packages/keras/backend/tensorflow_backend.py:223: The name tf.variables_initializer is deprecated. Please use tf.compat.v1.variables_initializer instead.\n",
            "\n",
            "WARNING:tensorflow:From /usr/local/lib/python3.6/dist-packages/keras/backend/tensorflow_backend.py:2041: The name tf.nn.fused_batch_norm is deprecated. Please use tf.compat.v1.nn.fused_batch_norm instead.\n",
            "\n",
            "WARNING:tensorflow:From /usr/local/lib/python3.6/dist-packages/keras/backend/tensorflow_backend.py:4267: The name tf.nn.max_pool is deprecated. Please use tf.nn.max_pool2d instead.\n",
            "\n",
            "WARNING:tensorflow:From /usr/local/lib/python3.6/dist-packages/keras/backend/tensorflow_backend.py:4271: The name tf.nn.avg_pool is deprecated. Please use tf.nn.avg_pool2d instead.\n",
            "\n"
          ],
          "name": "stdout"
        }
      ]
    },
    {
      "cell_type": "code",
      "metadata": {
        "id": "Earm8UOvTTx2",
        "colab_type": "code",
        "colab": {}
      },
      "source": [
        "my_image = model.input\n",
        "\n",
        "gradient = k.gradients(loss, my_image)[0]\n",
        "gradient /= k.maximum(k.mean(k.abs(gradient)), k.epsilon())\n",
        "\n",
        "fetch = k.function([my_image], [loss, gradient])\n",
        "\n",
        "def ascent(x, step, iterations, maxLoss = None):\n",
        "  for i in range(iterations):\n",
        "    l, g = fetch([x])\n",
        "    if maxLoss is not None and l > maxLoss:\n",
        "      break\n",
        "    if(i%5 == 0):\n",
        "      print(\"loss for \" + str(i) + \"th iteration : \" + str(l))\n",
        "    x += step*g\n",
        "  return x"
      ],
      "execution_count": 0,
      "outputs": []
    },
    {
      "cell_type": "markdown",
      "metadata": {
        "id": "KkXrsY5D7MSf",
        "colab_type": "text"
      },
      "source": [
        "###Helpers"
      ]
    },
    {
      "cell_type": "code",
      "metadata": {
        "id": "o8v6cSby7Lh0",
        "colab_type": "code",
        "colab": {}
      },
      "source": [
        "def resize(img, shaper):\n",
        "  if k.image_data_format() == \"channels_first\":\n",
        "    zoom = (1, 1, float(shaper[0]/img.shape[2]) , float(shaper[1]/img.shape[3]))\n",
        "  else:\n",
        "    zoom = (1, float(shaper[0]/img.shape[1]) , float(shaper[1]/img.shape[2]), 1)\n",
        "  \n",
        "  return scipy.ndimage.zoom(img, zoom, order = 1)"
      ],
      "execution_count": 0,
      "outputs": []
    },
    {
      "cell_type": "code",
      "metadata": {
        "id": "nChK3fF5fW0t",
        "colab_type": "code",
        "colab": {}
      },
      "source": [
        "def preprocess(path):\n",
        "  img = load_img(path)\n",
        "  img = img_to_array(img)\n",
        "  img = np.expand_dims(img, axis = 0)\n",
        "  img = inception_v3.preprocess_input(img)\n",
        "  return img"
      ],
      "execution_count": 0,
      "outputs": []
    },
    {
      "cell_type": "code",
      "metadata": {
        "id": "LZJ_akEcqSwy",
        "colab_type": "code",
        "colab": {}
      },
      "source": [
        "def deprocess(img):\n",
        "  if k.image_data_format() == \"channels_first\":\n",
        "    img = img.reshape((3, img.shape[2], img.shape[3]))\n",
        "    img = img.transpose((1, 2, 0))\n",
        "  else:\n",
        "    img = img.reshape((img.shape[1], img.shape[2], 3))\n",
        "  \n",
        "  img /= 2\n",
        "  img += 0.5\n",
        "  img *= 255\n",
        "  img = np.clip(img, 0., 255.).astype('uint8')\n",
        "  return img"
      ],
      "execution_count": 0,
      "outputs": []
    },
    {
      "cell_type": "code",
      "metadata": {
        "id": "6xwZVCIWNw2O",
        "colab_type": "code",
        "colab": {}
      },
      "source": [
        "def save(fname, img):\n",
        "  temp = np.copy(img)\n",
        "  image = deprocess(temp)\n",
        "  imageio.imwrite(fname, image)\n",
        "  #scipy.misc.imsave(fname, image)"
      ],
      "execution_count": 0,
      "outputs": []
    },
    {
      "cell_type": "markdown",
      "metadata": {
        "id": "ElIdze8Lsd7B",
        "colab_type": "text"
      },
      "source": [
        "###deepDream"
      ]
    },
    {
      "cell_type": "code",
      "metadata": {
        "id": "NENszXQMsiyr",
        "colab_type": "code",
        "colab": {}
      },
      "source": [
        "step= 0.01\n",
        "num_octaves = 3\n",
        "octave_scale = 1.4\n",
        "iterations = 20\n",
        "maxLoss = 10\n",
        "\n",
        "import os\n",
        "work_dir = \"/content/\"\n",
        "os.chdir(\"/content/\")\n",
        "path = \"Me.jpg\""
      ],
      "execution_count": 0,
      "outputs": []
    },
    {
      "cell_type": "code",
      "metadata": {
        "id": "NqXTty-hssaR",
        "colab_type": "code",
        "colab": {
          "base_uri": "https://localhost:8080/",
          "height": 221
        },
        "outputId": "ab272eda-d2bf-4ea8-ad30-0bd00916b151"
      },
      "source": [
        "image = preprocess(path)\n",
        "successive_shapes = []\n",
        "\n",
        "if k.image_data_format() == \"channels_first\":\n",
        "  original_shape = image.shape[2:]\n",
        "else:\n",
        "  original_shape = image.shape[1:3]\n",
        "\n",
        "successive_shapes.append(original_shape)\n",
        "\n",
        "for i in range(1, num_octaves):\n",
        "  shape = tuple([int(dim/(octave_scale**i)) for dim in original_shape])\n",
        "  successive_shapes.append(shape)\n",
        "\n",
        "successive_shapes.reverse()\n",
        "\n",
        "original_image = np.copy(image)\n",
        "shrunk_original = resize(original_image, successive_shapes[0])\n",
        "\n",
        "for shape in successive_shapes:\n",
        "  image = resize(image, shape)\n",
        "  image = ascent(image, step, iterations, maxLoss)\n",
        "  upscaled_shrunk = resize(shrunk_original, shape)\n",
        "  upscaled_original = resize(original_image, shape)\n",
        "\n",
        "  loss_in_detail = upscaled_original - upscaled_shrunk\n",
        "  image = image + loss_in_detail\n",
        "\n",
        "  shrunk_original = resize(original_image, shape)\n",
        "\n",
        "import imageio\n",
        "save(\"image_test.png\", image)"
      ],
      "execution_count": 10,
      "outputs": [
        {
          "output_type": "stream",
          "text": [
            "loss for 0th iteration : 0.8331488\n",
            "loss for 5th iteration : 2.4415298\n",
            "loss for 10th iteration : 4.0374527\n",
            "loss for 15th iteration : 5.382182\n",
            "loss for 0th iteration : 1.5455457\n",
            "loss for 5th iteration : 4.492249\n",
            "loss for 10th iteration : 6.3268776\n",
            "loss for 15th iteration : 7.808008\n",
            "loss for 0th iteration : 1.7099823\n",
            "loss for 5th iteration : 4.952117\n",
            "loss for 10th iteration : 6.9715266\n",
            "loss for 15th iteration : 8.545008\n"
          ],
          "name": "stdout"
        }
      ]
    }
  ]
}