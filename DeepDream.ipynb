{
  "nbformat": 4,
  "nbformat_minor": 0,
  "metadata": {
    "colab": {
      "name": "DeepDream.ipynb",
      "provenance": [],
      "collapsed_sections": [],
      "include_colab_link": true
    },
    "kernelspec": {
      "name": "python3",
      "display_name": "Python 3"
    }
  },
  "cells": [
    {
      "cell_type": "markdown",
      "metadata": {
        "id": "view-in-github",
        "colab_type": "text"
      },
      "source": [
        "<a href=\"https://colab.research.google.com/github/deb-kit2/DeepDream/blob/master/DeepDream.ipynb\" target=\"_parent\"><img src=\"https://colab.research.google.com/assets/colab-badge.svg\" alt=\"Open In Colab\"/></a>"
      ]
    },
    {
      "cell_type": "markdown",
      "metadata": {
        "id": "WcRufE13QPRq",
        "colab_type": "text"
      },
      "source": [
        "###Dependencies"
      ]
    },
    {
      "cell_type": "code",
      "metadata": {
        "id": "OtaoAQ97P_Gn",
        "colab_type": "code",
        "colab": {}
      },
      "source": [
        "from keras.applications import inception_v3\n",
        "from keras import backend as k\n",
        "\n",
        "k.set_learning_phase(0)\n",
        "\n",
        "import numpy as np\n",
        "import scipy\n",
        "from keras.preprocessing.image import load_img, save_img, img_to_array"
      ],
      "execution_count": 0,
      "outputs": []
    },
    {
      "cell_type": "markdown",
      "metadata": {
        "id": "EoEen_jCRc_L",
        "colab_type": "text"
      },
      "source": [
        "###hello\n"
      ]
    },
    {
      "cell_type": "code",
      "metadata": {
        "id": "6mHZaQIzPa_U",
        "colab_type": "code",
        "colab": {}
      },
      "source": [
        "some_layers= {\n",
        "    \"mixed2\" : 2.,\n",
        "    \"mixed3\" : 0.5,\n",
        "    \"mixed4\" : 1.,\n",
        "    \"mixed5\" : 0.2, \n",
        "}"
      ],
      "execution_count": 0,
      "outputs": []
    },
    {
      "cell_type": "code",
      "metadata": {
        "id": "EGY_XPOXPUib",
        "colab_type": "code",
        "colab": {}
      },
      "source": [
        "model = inception_v3.InceptionV3(include_top = False, weights = \"imagenet\")\n",
        "\n",
        "loss = K.variable(0.)\n",
        "\n",
        "for layer, coeff in some_layers.items():\n",
        "  activation = model.get_layer(layer).output\n",
        "  loss += coeff * K.sum(K.square(activation))"
      ],
      "execution_count": 0,
      "outputs": []
    },
    {
      "cell_type": "code",
      "metadata": {
        "id": "Earm8UOvTTx2",
        "colab_type": "code",
        "colab": {}
      },
      "source": [
        "my_image = model.input\n",
        "\n"
      ],
      "execution_count": 0,
      "outputs": []
    }
  ]
}